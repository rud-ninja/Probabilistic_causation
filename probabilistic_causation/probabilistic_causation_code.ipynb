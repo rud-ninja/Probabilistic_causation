{
  "cells": [
    {
      "cell_type": "code",
      "source": [
        "pip install distfit"
      ],
      "metadata": {
        "id": "OvWPTtLu6F-Y"
      },
      "id": "OvWPTtLu6F-Y",
      "execution_count": null,
      "outputs": []
    },
    {
      "cell_type": "code",
      "source": [
        "pip install pymc3"
      ],
      "metadata": {
        "id": "dmLunnFf203Y"
      },
      "id": "dmLunnFf203Y",
      "execution_count": null,
      "outputs": []
    },
    {
      "cell_type": "code",
      "execution_count": null,
      "id": "8e89cb49",
      "metadata": {
        "id": "8e89cb49"
      },
      "outputs": [],
      "source": [
        "# This block needs to be executed only on google colab\n",
        "\n",
        "from google.colab import files\n",
        "uploaded = files.upload()"
      ]
    },
    {
      "cell_type": "code",
      "execution_count": 6,
      "id": "acd1006e",
      "metadata": {
        "id": "acd1006e"
      },
      "outputs": [],
      "source": [
        "# import the necessary libraries\n",
        "\n",
        "import pandas as pd\n",
        "import numpy as np\n",
        "import pymc3 as pm\n",
        "import random\n",
        "import pprint\n",
        "import matplotlib.pyplot as plt\n",
        "from distfit import distfit\n",
        "import scipy.integrate as integrate\n",
        "import scipy.stats as stats\n",
        "from scipy.special import gamma\n",
        "from sklearn.preprocessing import normalize\n",
        "import warnings\n",
        "warnings.filterwarnings('ignore')"
      ]
    },
    {
      "cell_type": "code",
      "source": [
        "df = pd.read_csv('alpha.csv')\n",
        "pl = pd.read_csv('Master_players2.csv')\n",
        "trf = pd.read_csv('no_duplicates_transfer.csv')"
      ],
      "metadata": {
        "id": "YQ_ivG-gCBaX"
      },
      "id": "YQ_ivG-gCBaX",
      "execution_count": 7,
      "outputs": []
    },
    {
      "cell_type": "markdown",
      "source": [
        "# Initial boxplots of player rating, from team rating, to team rating and fee (including outliers)."
      ],
      "metadata": {
        "id": "4jHcNye-JasB"
      },
      "id": "4jHcNye-JasB"
    },
    {
      "cell_type": "code",
      "execution_count": null,
      "id": "9b8f28cf",
      "metadata": {
        "id": "9b8f28cf"
      },
      "outputs": [],
      "source": [
        "plt.figure(figsize=(17,7))\n",
        "\n",
        "plt.subplot(1,4,1)\n",
        "plt.boxplot(df['RATING'])\n",
        "plt.xlabel('Player rating', fontsize=15)\n",
        "ratingq = np.quantile(df['RATING'], [0,0.25,0.5,0.75,1])\n",
        "\n",
        "plt.subplot(1,4,2)\n",
        "plt.boxplot(df[df['TT_RATING']!=0]['TT_RATING'])\n",
        "plt.xlabel('To team rating', fontsize=15)\n",
        "tteamq = np.quantile(df[df['TT_RATING']!=0]['TT_RATING'], [0,0.25,0.5,0.75,1])\n",
        "\n",
        "plt.subplot(1,4,3)\n",
        "plt.boxplot(df[df['FT_RATING']!=0]['FT_RATING'])\n",
        "plt.xlabel('From team rating', fontsize=15)\n",
        "fteamq = np.quantile(df[df['FT_RATING']!=0]['FT_RATING'], [0,0.25,0.5,0.75,1])\n",
        "\n",
        "plt.subplot(1,4,4)\n",
        "plt.boxplot(df['FEE'])\n",
        "plt.xlabel('Transfer fee', fontsize=15)\n",
        "plt.ylabel('Mil. euros', fontsize=15)\n",
        "feeq = np.quantile(df['FEE'], [0,0.25,0.5,0.75,1])\n",
        "\n",
        "plt.show()"
      ]
    },
    {
      "cell_type": "markdown",
      "source": [
        "# Remove outliers from player ratings and chunk of outliers from fees and boxplot of same as above."
      ],
      "metadata": {
        "id": "28FbA8vtJyw9"
      },
      "id": "28FbA8vtJyw9"
    },
    {
      "cell_type": "code",
      "source": [
        "def remove_outliers(df_in, col):\n",
        "    Q1 = df_in[col].quantile(0.25)\n",
        "    Q3 = df_in[col].quantile(0.75)\n",
        "    IQR = Q3 - Q1\n",
        "    if col == 'RATING':\n",
        "        df_out = df_in.loc[(df_in[col] > Q1 - 1.5 * IQR) & (df_in[col] < Q3 + 1.5 *IQR)]\n",
        "    if col == 'FEE':\n",
        "        df_out = df_in.loc[(df_in[col] > Q1 - 1.5 * IQR) & (df_in[col] < Q3 + 4 *IQR)]\n",
        "\n",
        "    # df_out = df_in.loc[(df_in[col] > Q1 - 1.5 * IQR) & (df_in[col] < Q3 + 1.5 *IQR)]\n",
        "    return df_out"
      ],
      "metadata": {
        "id": "sX6OcgqOpeex"
      },
      "id": "sX6OcgqOpeex",
      "execution_count": 10,
      "outputs": []
    },
    {
      "cell_type": "code",
      "source": [
        "df = remove_outliers(df,'RATING')\n",
        "df = remove_outliers(df,'FEE')\n",
        "df.reset_index(inplace=True)"
      ],
      "metadata": {
        "id": "fFxY0J_l0WFB"
      },
      "id": "fFxY0J_l0WFB",
      "execution_count": 11,
      "outputs": []
    },
    {
      "cell_type": "code",
      "source": [
        "plt.figure(figsize=(17,7))\n",
        "\n",
        "plt.subplot(1,4,1)\n",
        "plt.boxplot(df['RATING'])\n",
        "plt.xlabel('Player rating', fontsize=15)\n",
        "ratingq = np.quantile(df['RATING'], [0,0.25,0.5,0.75,1])\n",
        "\n",
        "plt.subplot(1,4,2)\n",
        "plt.boxplot(df[df['TT_RATING']!=0]['TT_RATING'])\n",
        "plt.xlabel('To team rating', fontsize=15)\n",
        "tteamq = np.quantile(df[df['TT_RATING']!=0]['TT_RATING'], [0,0.25,0.5,0.75,1])\n",
        "\n",
        "plt.subplot(1,4,3)\n",
        "plt.boxplot(df[df['FT_RATING']!=0]['FT_RATING'])\n",
        "plt.xlabel('From team rating', fontsize=15)\n",
        "fteamq = np.quantile(df[df['FT_RATING']!=0]['FT_RATING'], [0,0.25,0.5,0.75,1])\n",
        "\n",
        "plt.subplot(1,4,4)\n",
        "plt.boxplot(df['FEE'])\n",
        "plt.xlabel('Transfer fee', fontsize=15)\n",
        "plt.ylabel('Mil. euros', fontsize=15)\n",
        "feeq = np.quantile(df['FEE'], [0,0.25,0.5,0.75,1])\n",
        "\n",
        "plt.show()"
      ],
      "metadata": {
        "id": "78oGRu2uqL7e"
      },
      "id": "78oGRu2uqL7e",
      "execution_count": null,
      "outputs": []
    },
    {
      "cell_type": "markdown",
      "source": [
        "# Associate player, from team and to team ratings and ages to classes"
      ],
      "metadata": {
        "id": "_U-KNVKrKFes"
      },
      "id": "_U-KNVKrKFes"
    },
    {
      "cell_type": "code",
      "execution_count": 13,
      "id": "ff4b18c2",
      "metadata": {
        "id": "ff4b18c2"
      },
      "outputs": [],
      "source": [
        "clss = [0]*len(df)\n",
        "df['T_CLASS'] = clss\n",
        "df['AGE_CLASS'] = clss\n",
        "df['TF_CLASS'] = clss\n",
        "df['P_CLASS'] = clss\n",
        "\n",
        "for i in range(len(df)):\n",
        "    if df['FT_RATING'].iloc[i] <= fteamq[1]:\n",
        "        df['T_CLASS'].iloc[i] = 4\n",
        "    if df['FT_RATING'].iloc[i] > fteamq[1] and df['FT_RATING'].iloc[i] <= fteamq[2]:\n",
        "        df['T_CLASS'].iloc[i] = 3\n",
        "    if df['FT_RATING'].iloc[i] > fteamq[2] and df['FT_RATING'].iloc[i] <= fteamq[3]:\n",
        "        df['T_CLASS'].iloc[i] = 2\n",
        "    if df['FT_RATING'].iloc[i] > fteamq[3]:\n",
        "        df['T_CLASS'].iloc[i] = 1\n",
        "    \n",
        "    \n",
        "    if df['AGE'].iloc[i] >= df['AGE'].min() and df['AGE'].iloc[i] <= 20:\n",
        "        df['AGE_CLASS'].iloc[i] = 1\n",
        "    if df['AGE'].iloc[i] > 20 and df['AGE'].iloc[i] <= 25:\n",
        "        df['AGE_CLASS'].iloc[i] = 2\n",
        "    if df['AGE'].iloc[i] > 25 and df['AGE'].iloc[i] <= 30:\n",
        "        df['AGE_CLASS'].iloc[i] = 3\n",
        "    if df['AGE'].iloc[i] > 30:\n",
        "        df['AGE_CLASS'].iloc[i] = 4\n",
        "        \n",
        "    \n",
        "    if df['FEE'].iloc[i] <= feeq[1]:\n",
        "        df['TF_CLASS'].iloc[i] = 4\n",
        "    if df['FEE'].iloc[i] > feeq[1] and df['FEE'].iloc[i] <= feeq[2]:\n",
        "        df['TF_CLASS'].iloc[i] = 3\n",
        "    if df['FEE'].iloc[i] > feeq[2] and df['FEE'].iloc[i] <= feeq[3]:\n",
        "        df['TF_CLASS'].iloc[i] = 2\n",
        "    if df['FEE'].iloc[i] > feeq[3]:\n",
        "        df['TF_CLASS'].iloc[i] = 1\n",
        "        \n",
        "        \n",
        "    if df['RATING'].iloc[i] <= ratingq[1]:\n",
        "        df['P_CLASS'].iloc[i] = 4\n",
        "    if df['RATING'].iloc[i] > ratingq[1] and df['RATING'].iloc[i] <= ratingq[2]:\n",
        "        df['P_CLASS'].iloc[i] = 3\n",
        "    if df['RATING'].iloc[i] > ratingq[2] and df['RATING'].iloc[i] <= ratingq[3]:\n",
        "        df['P_CLASS'].iloc[i] = 2\n",
        "    if df['RATING'].iloc[i] > ratingq[3]:\n",
        "        df['P_CLASS'].iloc[i] = 1\n",
        "        "
      ]
    },
    {
      "cell_type": "code",
      "execution_count": null,
      "id": "32614458",
      "metadata": {
        "id": "32614458"
      },
      "outputs": [],
      "source": [
        "df = df[['DATE', 'NAME', 'RATING', 'P_CLASS', 'FROM', 'FT_RATING','T_CLASS', 'TO', 'TT_RATING',\n",
        "       'FEE', 'TF_CLASS', 'POSITION', 'HEIGHT', 'FOOT', 'AGE','AGE_CLASS', 'NATION']]"
      ]
    },
    {
      "cell_type": "markdown",
      "source": [
        "# Plot player ratings vs fees for each level of combinations of from team and age classes"
      ],
      "metadata": {
        "id": "XqKkqFi3KkmH"
      },
      "id": "XqKkqFi3KkmH"
    },
    {
      "cell_type": "code",
      "execution_count": null,
      "id": "6e73d33c",
      "metadata": {
        "id": "6e73d33c"
      },
      "outputs": [],
      "source": [
        "plt.figure(figsize=(15,15))\n",
        "ctr = 1\n",
        "\n",
        "list1 = list(df['T_CLASS'].unique())\n",
        "list1.sort()\n",
        "for i in list1:\n",
        "    if i==0:\n",
        "        continue\n",
        "\n",
        "    else:\n",
        "        min_df = df[df['T_CLASS']==i]\n",
        "        list2 = list(min_df['AGE_CLASS'].unique())\n",
        "        list2.sort()\n",
        "        for j in list2:\n",
        "            newmin_df = min_df[min_df['AGE_CLASS']==j]\n",
        "            plt.subplot(4, 4, ctr)\n",
        "            cv = round(np.cov(newmin_df['RATING'], newmin_df['FEE'])[0, 1],2)\n",
        "            plt.title('Cov(x, y) = '+str(cv))\n",
        "            plt.ylim((df['FEE'].min(),df['FEE'].max()))\n",
        "            plt.scatter(newmin_df['RATING'], newmin_df['FEE'], label='Team class: '+str(i)+' and age class: '+str(j))\n",
        "            z = np.polyfit(newmin_df['RATING'], newmin_df['FEE'], 1)\n",
        "            p = np.poly1d(z)\n",
        "            intcpt = p(0)\n",
        "            slope = (p(7.5)-p(6))/1.5\n",
        "            plt.plot(newmin_df['RATING'], p(newmin_df['RATING']), linestyle='dashed', linewidth=1, color='red', label='y= '+str(round(slope,1))+'x + '+str(round(intcpt,1)))\n",
        "            plt.legend()\n",
        "            ctr+=1\n",
        "\n",
        "\n",
        "plt.suptitle('Player rating (x) Vs. Transfer fee (y) for each combination of team and age classes', fontsize=20)"
      ]
    },
    {
      "cell_type": "markdown",
      "source": [
        "# Calculate causal effect of rating do(X = x) on fee Y = y for a certain class of team and age. Eg team class 1 & age class 2"
      ],
      "metadata": {
        "id": "aflkc4gJL_Bx"
      },
      "id": "aflkc4gJL_Bx"
    },
    {
      "cell_type": "code",
      "source": [
        "def prob_bayes(f, a, x, y, df2):\n",
        "    dff = df2[df2['T_CLASS']==f]\n",
        "    dff = dff[dff['AGE_CLASS']==a]\n",
        "\n",
        "    # P(Y)\n",
        "    prob_y = len(dff[dff['TF_CLASS']==y])/len(dff)\n",
        "\n",
        "    # P(X)\n",
        "    prob_x = len(dff[dff['P_CLASS']==x])/len(dff)\n",
        "\n",
        "    # P(X|Y)\n",
        "    tr_df = dff[dff['TF_CLASS']==y]\n",
        "    if len(tr_df)!= 0:\n",
        "        prob_xy = len(tr_df[tr_df['P_CLASS']==x])/len(tr_df)\n",
        "    else:\n",
        "        prob_xy = 0\n",
        "    if prob_x:\n",
        "        prob = (prob_xy*prob_y)/prob_x\n",
        "    else:\n",
        "        prob = 0\n",
        "\n",
        "    return prob"
      ],
      "metadata": {
        "id": "I6cKoJK_9i9Z"
      },
      "id": "I6cKoJK_9i9Z",
      "execution_count": 17,
      "outputs": []
    },
    {
      "cell_type": "code",
      "source": [
        "y1_x1 = prob_bayes(1, 2, 1, 1, df)\n",
        "y1_x2 = prob_bayes(1, 2, 2, 1, df)\n",
        "y1_x3 = prob_bayes(1, 2, 3, 1, df)\n",
        "y1_x4 = prob_bayes(1, 2, 4, 1, df)\n",
        "print(y1_x1)\n",
        "print(y1_x2)\n",
        "print(y1_x3)\n",
        "print(y1_x4)"
      ],
      "metadata": {
        "id": "HvZ3jO6YAhhk"
      },
      "id": "HvZ3jO6YAhhk",
      "execution_count": null,
      "outputs": []
    },
    {
      "cell_type": "markdown",
      "source": [
        "# PDF of age from all players in top 5 league by bayesian inference"
      ],
      "metadata": {
        "id": "D7Eq704zMvZz"
      },
      "id": "D7Eq704zMvZz"
    },
    {
      "cell_type": "code",
      "source": [
        "dist = distfit()\n",
        "dist.fit_transform(pl['AGE'])\n",
        "dist.plot()"
      ],
      "metadata": {
        "id": "nOhX02Fv54Ew"
      },
      "id": "nOhX02Fv54Ew",
      "execution_count": null,
      "outputs": []
    },
    {
      "cell_type": "code",
      "source": [
        "norm_age = np.array(pl['AGE'])\n",
        "norm_age = pd.Series(norm_age)"
      ],
      "metadata": {
        "id": "OHLR6adg66nB"
      },
      "id": "OHLR6adg66nB",
      "execution_count": 22,
      "outputs": []
    },
    {
      "cell_type": "code",
      "source": [
        "with pm.Model() as age:\n",
        "\n",
        "  alpha = pm.HalfNormal('alpha', sd=10)\n",
        "  beta = pm.HalfNormal('beta', sd=10)\n",
        "\n",
        "  f = pm.Gamma('f', alpha=alpha, beta=beta, observed=norm_age)\n",
        "  \n",
        "  trace_age = pm.sample(5000)\n",
        "\n",
        "  pm.plot_trace(trace_age, ['alpha', 'beta'], figsize=(10,7))\n",
        "  plt.show()"
      ],
      "metadata": {
        "id": "zxZDJDRd_Gem"
      },
      "id": "zxZDJDRd_Gem",
      "execution_count": null,
      "outputs": []
    },
    {
      "cell_type": "code",
      "source": [
        "df_age = pm.summary(trace_age, kind=\"stats\")\n",
        "df_age"
      ],
      "metadata": {
        "id": "4qgQYHjECpmM"
      },
      "id": "4qgQYHjECpmM",
      "execution_count": null,
      "outputs": []
    },
    {
      "cell_type": "code",
      "source": [
        "plt.figure(figsize=(7,7))\n",
        "\n",
        "xgam = np.linspace(10,50,100)\n",
        "\n",
        "agam = list(df_age['mean'])[0]\n",
        "bgam = list(df_age['mean'])[1]\n",
        "agsd = list(df_age['sd'])[0]\n",
        "bgsd = list(df_age['sd'])[1]\n",
        "\n",
        "for a in np.linspace(agam-agsd, agam+agsd, 10):\n",
        "    for b in np.linspace(bgam-bgsd, bgam+bgsd, 10):\n",
        "        ygam = stats.gamma.pdf(xgam, a, scale=1/b)\n",
        "        plt.plot(xgam, ygam, color='blue', alpha=0.1)\n",
        "\n",
        "plt.xlabel('Age (years)', fontsize=15)\n",
        "plt.ylabel('P(Age)', fontsize=15)\n",
        "plt.title('PDF of Age', fontsize=15)\n",
        "plt.show()"
      ],
      "metadata": {
        "id": "6z_OSUXEArEc"
      },
      "id": "6z_OSUXEArEc",
      "execution_count": null,
      "outputs": []
    },
    {
      "cell_type": "code",
      "source": [
        "def gammafunc(x, alpha, beta):\n",
        "  result = ((beta**alpha)*(x**(alpha-1))*np.exp(-1*beta*x))/gamma((alpha-1))\n",
        "  return result"
      ],
      "metadata": {
        "id": "G-hRXbN9zZ11"
      },
      "id": "G-hRXbN9zZ11",
      "execution_count": 26,
      "outputs": []
    },
    {
      "cell_type": "code",
      "source": [
        "pr1 = []\n",
        "pr2 = []\n",
        "pr3 = []\n",
        "pr4 = []\n",
        "ages = [20,25,30]\n",
        "\n",
        "for i in range(10000):\n",
        "    al = np.random.choice(np.linspace(agam-agsd, agam+agsd, 20))\n",
        "    be = np.random.choice(np.linspace(bgam-bgsd, bgam+bgsd, 20))\n",
        "    p_gamma = integrate.quad(gammafunc, 0, np.inf, args=(al, be))\n",
        "    nc_age = p_gamma[0]\n",
        "    p1 = integrate.quad(gammafunc, 0, ages[0], args=(al, be))[0]/nc_age\n",
        "    pr1.append(p1)\n",
        "    p2 = integrate.quad(gammafunc, ages[0], ages[1], args=(al, be))[0]/nc_age\n",
        "    pr2.append(p2)\n",
        "    p3 = integrate.quad(gammafunc, ages[1], ages[2], args=(al, be))[0]/nc_age\n",
        "    pr3.append(p3)\n",
        "    p4 = integrate.quad(gammafunc, ages[2], np.inf, args=(al, be))[0]/nc_age\n",
        "    pr4.append(p4)\n",
        "\n",
        "prob_1 = sum(pr1)/len(pr1)\n",
        "prob_2 = sum(pr2)/len(pr2)\n",
        "prob_3 = sum(pr3)/len(pr3)\n",
        "prob_4 = sum(pr4)/len(pr4)\n",
        "\n",
        "print(\"P(Age class 1) =\", prob_1)\n",
        "print(\"P(Age class 2) =\", prob_2)\n",
        "print(\"P(Age class 3) =\", prob_3)\n",
        "print(\"P(Age class 4) =\", prob_4)\n",
        "\n",
        "print(\"Sum of probabilities =\", prob_1+prob_2+prob_3+prob_4)"
      ],
      "metadata": {
        "id": "y0wRYnMw0yhe"
      },
      "id": "y0wRYnMw0yhe",
      "execution_count": null,
      "outputs": []
    },
    {
      "cell_type": "code",
      "source": [
        "p_age = {1:prob_1, 2:prob_2, 3:prob_3, 4:prob_4}\n",
        "p_age"
      ],
      "metadata": {
        "id": "AHHJsBNaTrZJ"
      },
      "id": "AHHJsBNaTrZJ",
      "execution_count": null,
      "outputs": []
    },
    {
      "cell_type": "markdown",
      "source": [
        "# PDF of From team rating from all transfers (free+loan) in top 5 league by bayesian inference"
      ],
      "metadata": {
        "id": "5cG3XQAnOAMa"
      },
      "id": "5cG3XQAnOAMa"
    },
    {
      "cell_type": "code",
      "source": [
        "df_og = pd.read_csv('alpha.csv')\n",
        "\n",
        "trm = []\n",
        "for i in range(len(df_og)):\n",
        "    trm.append((df_og['FROM'].iloc[i], df_og['FT_RATING'].iloc[i]))\n",
        "    trm.append((df_og['TO'].iloc[i], df_og['TT_RATING'].iloc[i]))\n",
        "\n",
        "trm = list(set(trm))\n",
        "trm = pd.DataFrame(trm, columns=['Team', 'Rating'])\n",
        "trm = dict(zip(trm['Team'], trm['Rating']))"
      ],
      "metadata": {
        "id": "Zgj2h-E26F4N"
      },
      "id": "Zgj2h-E26F4N",
      "execution_count": 29,
      "outputs": []
    },
    {
      "cell_type": "code",
      "source": [
        "zero = [0]*len(trf)\n",
        "trf['FT_RATING'] = zero\n",
        "\n",
        "\n",
        "for i in range(len(trf)):\n",
        "    if trf['FROM'].iloc[i] in trm.keys():\n",
        "        trf['FT_RATING'].iloc[i] = trm[trf['FROM'].iloc[i]]\n",
        "\n",
        "trf = trf[['DATE',\t'NAME',\t'FROM', 'FT_RATING','TO',\t'FEE']]\n",
        "nztrf = trf[trf['FT_RATING']!=0]\n",
        "\n",
        "dist = distfit(distr='popular')\n",
        "dist.fit_transform(nztrf['FT_RATING'])\n",
        "dist.plot()"
      ],
      "metadata": {
        "id": "_afDHczR6UCk"
      },
      "id": "_afDHczR6UCk",
      "execution_count": null,
      "outputs": []
    },
    {
      "cell_type": "code",
      "source": [
        "for_beta = np.array(nztrf['FT_RATING'])\n",
        "for_beta = [(x-np.min(for_beta))/(np.max(for_beta)-np.min(for_beta)) for x in for_beta]\n",
        "for_beta = [x for x in for_beta if x not in [0.0, 1.0]]\n",
        "\n",
        "for_beta = pd.Series(for_beta)\n",
        "\n",
        "dist = distfit(distr='popular')\n",
        "dist.fit_transform(for_beta)\n",
        "dist.plot()"
      ],
      "metadata": {
        "id": "DMSXGM-rzGbF"
      },
      "id": "DMSXGM-rzGbF",
      "execution_count": null,
      "outputs": []
    },
    {
      "cell_type": "code",
      "source": [
        "with pm.Model() as rate:\n",
        "\n",
        "  alpha_b = pm.HalfNormal('alpha', sd=10)\n",
        "  beta_b = pm.HalfNormal('beta', sd=10)\n",
        "\n",
        "  f = pm.Beta('f', alpha=alpha_b, beta=beta_b, observed=for_beta)\n",
        "\n",
        "  trace_team = pm.sample(5000)\n",
        "  pm.plot_trace(trace_team, ['alpha', 'beta'], figsize=(10,7))\n",
        "\n",
        "  plt.show()"
      ],
      "metadata": {
        "id": "yuf0QXJHIfeJ"
      },
      "id": "yuf0QXJHIfeJ",
      "execution_count": null,
      "outputs": []
    },
    {
      "cell_type": "code",
      "source": [
        "df_from = pm.summary(trace_team, kind=\"stats\")\n",
        "df_from"
      ],
      "metadata": {
        "id": "rVwj2ttbTqtG"
      },
      "id": "rVwj2ttbTqtG",
      "execution_count": null,
      "outputs": []
    },
    {
      "cell_type": "code",
      "source": [
        "plt.figure(figsize=(7,7))\n",
        "\n",
        "xbet = np.linspace(0,1,100)\n",
        "\n",
        "abet = list(df_from['mean'])[0]\n",
        "bbet = list(df_from['mean'])[1]\n",
        "absd = list(df_from['sd'])[0]\n",
        "bbsd = list(df_from['sd'])[1]\n",
        "\n",
        "for a in np.linspace(abet-absd, abet+absd, 10):\n",
        "    for b in np.linspace(bbet-bbsd, bbet+bbsd, 10):\n",
        "        ybet = stats.beta.pdf(xbet, a, b)\n",
        "        plt.plot(xbet, ybet, color='blue', alpha=0.1)\n",
        "\n",
        "\n",
        "plt.xlabel('From team rating', fontsize=15)\n",
        "plt.ylabel('P(Rating)', fontsize=15)\n",
        "plt.title('PDF of From team rating', fontsize=15)\n",
        "plt.show()"
      ],
      "metadata": {
        "id": "DMAdi2expi18"
      },
      "id": "DMAdi2expi18",
      "execution_count": null,
      "outputs": []
    },
    {
      "cell_type": "code",
      "source": [
        "def betafunc(x, alpha, beta):\n",
        "  result = ((x**(alpha-1))*((1-x)**(beta-1))*gamma(alpha+beta))/(gamma(alpha)*gamma(beta))\n",
        "  return result"
      ],
      "metadata": {
        "id": "1Pd2F_Vs66Qb"
      },
      "id": "1Pd2F_Vs66Qb",
      "execution_count": 35,
      "outputs": []
    },
    {
      "cell_type": "code",
      "source": [
        "pr1 = []\n",
        "pr2 = []\n",
        "pr3 = []\n",
        "pr4 = []\n",
        "\n",
        "rates = fteamq[1:4]\n",
        "rates = [(x-nztrf['FT_RATING'].min())/(nztrf['FT_RATING'].max()-nztrf['FT_RATING'].min()) for x in rates]\n",
        "\n",
        "for i in range(10000):\n",
        "    al = np.random.choice(np.linspace(abet-absd, abet+absd, 20))\n",
        "    be = np.random.choice(np.linspace(bbet-bbsd, bbet+bbsd, 20))\n",
        "    p_beta = integrate.quad(betafunc, 0, 1, args=(al, be))\n",
        "    nc_rate = p_beta[0]\n",
        "    p1 = integrate.quad(betafunc, 0, rates[0], args=(al, be))[0]/nc_rate\n",
        "    pr1.append(p1)\n",
        "    p2 = integrate.quad(betafunc, rates[0], rates[1], args=(al, be))[0]/nc_rate\n",
        "    pr2.append(p2)\n",
        "    p3 = integrate.quad(betafunc, rates[1], rates[2], args=(al, be))[0]/nc_rate\n",
        "    pr3.append(p3)\n",
        "    p4 = integrate.quad(betafunc, rates[2], 1, args=(al, be))[0]/nc_rate\n",
        "    pr4.append(p4)\n",
        "\n",
        "prob_1 = sum(pr1)/len(pr1)\n",
        "prob_2 = sum(pr2)/len(pr2)\n",
        "prob_3 = sum(pr3)/len(pr3)\n",
        "prob_4 = sum(pr4)/len(pr4)\n",
        "\n",
        "print(\"P(Team class 1) =\", prob_4)\n",
        "print(\"P(Team class 2) =\", prob_3)\n",
        "print(\"P(Team class 3) =\", prob_2)\n",
        "print(\"P(Team class 4) =\", prob_1)\n",
        "\n",
        "print(\"Sum of probabilities =\", prob_1+prob_2+prob_3+prob_4)"
      ],
      "metadata": {
        "id": "4swExroU4-6N"
      },
      "id": "4swExroU4-6N",
      "execution_count": null,
      "outputs": []
    },
    {
      "cell_type": "code",
      "source": [
        "p_rate = {4:prob_1, 3:prob_2, 2:prob_3, 1:prob_4}\n",
        "p_rate"
      ],
      "metadata": {
        "id": "_1gmgURTT9eb"
      },
      "id": "_1gmgURTT9eb",
      "execution_count": null,
      "outputs": []
    },
    {
      "cell_type": "markdown",
      "source": [
        "# Average causal effect of do(X=x) on Y=y over all levels"
      ],
      "metadata": {
        "id": "k8dbwAq0V3ic"
      },
      "id": "k8dbwAq0V3ic"
    },
    {
      "cell_type": "code",
      "source": [
        "def avg_prob(dfa, p_rate, p_age):\n",
        "  tr_ot_dict = {}\n",
        "  for t in range(1,5):\n",
        "    out = []\n",
        "    for o in range(1,5):\n",
        "      p_avg = 0\n",
        "      for i in range(1,5):\n",
        "        for j in range(1,5):\n",
        "          ps = prob_bayes(i, j, t, o, dfa)\n",
        "          p_avg+=(ps*p_rate[i]*p_age[j])\n",
        "        \n",
        "      out.append(round(p_avg,5))\n",
        "    tr_ot_dict[t] = out\n",
        "\n",
        "  return tr_ot_dict"
      ],
      "metadata": {
        "id": "rGa4Z6ZFUKS5"
      },
      "id": "rGa4Z6ZFUKS5",
      "execution_count": 38,
      "outputs": []
    },
    {
      "cell_type": "code",
      "source": [
        "total_effect = avg_prob(df,p_rate,p_age)\n",
        "tot_eff_df = pd.DataFrame.from_dict(total_effect, orient='index', columns=[1,2,3,4])"
      ],
      "metadata": {
        "id": "8DxV1pY6XFTn"
      },
      "id": "8DxV1pY6XFTn",
      "execution_count": 39,
      "outputs": []
    },
    {
      "cell_type": "code",
      "source": [
        "total_effect"
      ],
      "metadata": {
        "id": "6kn7cIfWI7-t"
      },
      "id": "6kn7cIfWI7-t",
      "execution_count": null,
      "outputs": []
    },
    {
      "cell_type": "code",
      "source": [
        "tot_eff_df = tot_eff_df.rename(columns={1: 'Fee class 1', 2: 'Fee class 2', 3: 'Fee class 3', 4: 'Fee class 4'}, index={1: 'Player class 1', 2: 'Player class 2', 3: 'Player class 3', 4: 'Player class 4'})\n",
        "tot_eff_df"
      ],
      "metadata": {
        "id": "52o5eLLkadgE"
      },
      "id": "52o5eLLkadgE",
      "execution_count": null,
      "outputs": []
    },
    {
      "cell_type": "code",
      "source": [
        "def abc(dfs, p_rate, p_age):\n",
        "    p1 = 0\n",
        "    p2 = 0\n",
        "    ran1 = list(set(dfs['T_CLASS'].unique()))\n",
        "    for i in ran1:\n",
        "        \n",
        "        dffs = dfs[dfs['T_CLASS']==i]\n",
        "        ran2 = list(set(dffs['AGE_CLASS'].unique()))\n",
        "        for j in ran2:\n",
        "            dframe = dffs[dffs['AGE_CLASS']==j]\n",
        "            for k in range(len(dframe)):\n",
        "                if dframe['P_CLASS'].iloc[k]!=1:\n",
        "                    dframe['P_CLASS'].iloc[k] = 0\n",
        "            # p(Y=1)\n",
        "            prob_y = len(dframe[dframe['TF_CLASS']==1])/len(dframe)\n",
        "\n",
        "            # P(X=1)\n",
        "            prob_x1 = len(dframe[dframe['P_CLASS']==1])/len(dframe)\n",
        "\n",
        "            # p(X=0)\n",
        "            prob_x0 = len(dframe[dframe['P_CLASS']==0])/len(dframe)\n",
        "\n",
        "\n",
        "            # P(X1|Y)\n",
        "            tr_df1 = dframe[dframe['TF_CLASS']==1]\n",
        "            if len(tr_df1)!= 0:\n",
        "                prob_x1y = len(tr_df1[tr_df1['P_CLASS']==1])/len(tr_df1)\n",
        "            else:\n",
        "                prob_x1y = 0\n",
        "\n",
        "            # P(X0|Y)\n",
        "            tr_df2 = dframe[dframe['TF_CLASS']==1]\n",
        "            if len(tr_df2)!= 0:\n",
        "                prob_x0y = len(tr_df2[tr_df2['P_CLASS']==0])/len(tr_df2)\n",
        "            else:\n",
        "                prob_x0y = 0\n",
        "\n",
        "\n",
        "            if prob_x1:\n",
        "                prob1 = (prob_x1y*prob_y)/prob_x1\n",
        "            else:\n",
        "                prob1 = 0\n",
        "\n",
        "\n",
        "            if prob_x0:\n",
        "                prob2 = (prob_x0y*prob_y)/prob_x0\n",
        "            else:\n",
        "                prob2 = 0\n",
        "\n",
        "            p1+=prob1*p_rate[i]*p_age[j]\n",
        "            p2+=prob2*p_rate[i]*p_age[j]\n",
        "    \n",
        "    \n",
        "    return p1, p2"
      ],
      "metadata": {
        "id": "fGWz2v3aI5qp"
      },
      "id": "fGWz2v3aI5qp",
      "execution_count": 110,
      "outputs": []
    },
    {
      "cell_type": "code",
      "source": [
        "pro1 = []\n",
        "pro2 = []\n",
        "for i in range(5000):\n",
        "    d = df.sample(n=400)\n",
        "    pr1, pr2 = abc(d, p_rate, p_age)\n",
        "    pro1.append(pr1)\n",
        "    pro2.append(pr2)\n",
        "\n",
        "diff = [pro1[i]-pro2[i] for i in range(len(pro1))]\n",
        "\n",
        "plt.hist(diff, bins=50)\n",
        "plt.show()"
      ],
      "metadata": {
        "id": "RjxaIvwO9fQm"
      },
      "id": "RjxaIvwO9fQm",
      "execution_count": null,
      "outputs": []
    },
    {
      "cell_type": "code",
      "source": [
        "from statsmodels.stats.weightstats import ztest"
      ],
      "metadata": {
        "id": "_vcWkaQxAizx"
      },
      "id": "_vcWkaQxAizx",
      "execution_count": 112,
      "outputs": []
    },
    {
      "cell_type": "code",
      "source": [
        "ztest_Score, p_value= ztest(diff,value = 0.0)"
      ],
      "metadata": {
        "id": "BdM3cW38MmHd"
      },
      "id": "BdM3cW38MmHd",
      "execution_count": 113,
      "outputs": []
    },
    {
      "cell_type": "code",
      "source": [
        "x_axis = [1, 2, 3, 4]\n",
        "teamcls = [0.043318535641380766, 0.08317465649507239, 0.045299583949734455, 0.018092638556812226]\n",
        "agecls = [0.02159810139819831, 0.11451391166403328, 0.04685361731451872, 0]\n",
        "plt.plot(x_axis, teamcls, color='blue', label = 'Team class')\n",
        "plt.plot(x_axis, agecls, color='red', label='Age class')\n",
        "plt.xlabel('class number')\n",
        "plt.ylabel('P(y=1|x=1)-P(y=1|x=~1)')\n",
        "plt.legend()\n",
        "plt.show()"
      ],
      "metadata": {
        "id": "3rN6UZa31aCN"
      },
      "id": "3rN6UZa31aCN",
      "execution_count": null,
      "outputs": []
    }
  ],
  "metadata": {
    "kernelspec": {
      "display_name": "Python 3",
      "language": "python",
      "name": "python3"
    },
    "language_info": {
      "codemirror_mode": {
        "name": "ipython",
        "version": 3
      },
      "file_extension": ".py",
      "mimetype": "text/x-python",
      "name": "python",
      "nbconvert_exporter": "python",
      "pygments_lexer": "ipython3",
      "version": "3.8.8"
    },
    "colab": {
      "name": "Main_analysisoncolab.ipynb",
      "provenance": [],
      "collapsed_sections": []
    }
  },
  "nbformat": 4,
  "nbformat_minor": 5
}